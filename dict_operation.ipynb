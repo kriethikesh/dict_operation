{
  "nbformat": 4,
  "nbformat_minor": 0,
  "metadata": {
    "colab": {
      "provenance": []
    },
    "kernelspec": {
      "name": "python3",
      "display_name": "Python 3"
    },
    "language_info": {
      "name": "python"
    }
  },
  "cells": [
    {
      "cell_type": "code",
      "source": [
        "#dict_operations"
      ],
      "metadata": {
        "id": "Sw8wUj2d4DPL"
      },
      "execution_count": 25,
      "outputs": []
    },
    {
      "cell_type": "code",
      "source": [
        "x={}"
      ],
      "metadata": {
        "id": "nK6oXSF94IgT"
      },
      "execution_count": 26,
      "outputs": []
    },
    {
      "cell_type": "code",
      "source": [
        "type(x)"
      ],
      "metadata": {
        "colab": {
          "base_uri": "https://localhost:8080/"
        },
        "id": "AU2k0jPQ4Lfp",
        "outputId": "b95d5f7a-d1f5-40b8-eda0-374702995dab"
      },
      "execution_count": 27,
      "outputs": [
        {
          "output_type": "execute_result",
          "data": {
            "text/plain": [
              "dict"
            ]
          },
          "metadata": {},
          "execution_count": 27
        }
      ]
    },
    {
      "cell_type": "code",
      "source": [
        "y=dict()"
      ],
      "metadata": {
        "id": "7qngKnh94PPK"
      },
      "execution_count": 29,
      "outputs": []
    },
    {
      "cell_type": "code",
      "source": [
        "type(y)"
      ],
      "metadata": {
        "colab": {
          "base_uri": "https://localhost:8080/"
        },
        "id": "wHGqjj4P4SDC",
        "outputId": "682173f9-dc27-4398-e152-7f233756eb1c"
      },
      "execution_count": 31,
      "outputs": [
        {
          "output_type": "execute_result",
          "data": {
            "text/plain": [
              "dict"
            ]
          },
          "metadata": {},
          "execution_count": 31
        }
      ]
    },
    {
      "cell_type": "code",
      "source": [
        "x={\"name\":\"kriethi\",\"place\":\"salem\",\"salary\":10000}"
      ],
      "metadata": {
        "id": "DaiCXssA4SLS"
      },
      "execution_count": 36,
      "outputs": []
    },
    {
      "cell_type": "code",
      "source": [
        "x"
      ],
      "metadata": {
        "colab": {
          "base_uri": "https://localhost:8080/"
        },
        "id": "SrZx19V_45Qg",
        "outputId": "115a7da2-244b-4d25-bbf0-c8f4db7e0dea"
      },
      "execution_count": 37,
      "outputs": [
        {
          "output_type": "execute_result",
          "data": {
            "text/plain": [
              "{'name': 'kriethi', 'place': 'salem', 'salary': 10000}"
            ]
          },
          "metadata": {},
          "execution_count": 37
        }
      ]
    },
    {
      "cell_type": "code",
      "source": [
        "name=dict(name=\"kriethi\",place=\"salem\",salary=10000)"
      ],
      "metadata": {
        "id": "SpaR35fO5GtY"
      },
      "execution_count": 41,
      "outputs": []
    },
    {
      "cell_type": "code",
      "source": [
        "name"
      ],
      "metadata": {
        "colab": {
          "base_uri": "https://localhost:8080/"
        },
        "id": "yi8roy8O55iG",
        "outputId": "a422e44b-a680-45a5-c2b4-0d08f03ed0e5"
      },
      "execution_count": 42,
      "outputs": [
        {
          "output_type": "execute_result",
          "data": {
            "text/plain": [
              "{'name': 'kriethi', 'place': 'salem', 'salary': 10000}"
            ]
          },
          "metadata": {},
          "execution_count": 42
        }
      ]
    },
    {
      "cell_type": "code",
      "source": [
        "id=dict(zip((\"name\",\"class\"),(\"kriethi\",10)))"
      ],
      "metadata": {
        "id": "rDuNjvgI5_G2"
      },
      "execution_count": 57,
      "outputs": []
    },
    {
      "cell_type": "code",
      "source": [
        "id"
      ],
      "metadata": {
        "colab": {
          "base_uri": "https://localhost:8080/"
        },
        "id": "4StYNY5v7dCt",
        "outputId": "cb2ce762-f9ea-446b-b935-eb6950469939"
      },
      "execution_count": 58,
      "outputs": [
        {
          "output_type": "execute_result",
          "data": {
            "text/plain": [
              "{'name': 'kriethi', 'class': 10}"
            ]
          },
          "metadata": {},
          "execution_count": 58
        }
      ]
    }
  ]
}